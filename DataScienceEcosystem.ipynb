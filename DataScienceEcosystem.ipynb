{
 "cells": [
  {
   "cell_type": "markdown",
   "id": "8bf09d33-d212-45b2-b66c-cac78706d869",
   "metadata": {},
   "source": [
    "# Data Science Tools and Ecosystem"
   ]
  },
  {
   "cell_type": "markdown",
   "id": "10abdfa1-c421-4509-a35f-3d1fc441d2bf",
   "metadata": {},
   "source": [
    "In this notebook, Data Science Tools and Ecosystem are summarized."
   ]
  },
  {
   "cell_type": "code",
   "execution_count": 3,
   "id": "98d28ec6-2f72-42f2-97b6-5f115eed4382",
   "metadata": {},
   "outputs": [
    {
     "name": "stdout",
     "output_type": "stream",
     "text": [
      "Some of the popular languages that Data Scientists use are: \n",
      "1. Python\n",
      "2. R\n",
      "3. SQL\n",
      "4. Java\n"
     ]
    }
   ],
   "source": [
    "print(\"Some of the popular languages that Data Scientists use are: \")\n",
    "languages = [\"Python\", \"R\", \"SQL\", \"Java\"]\n",
    "\n",
    "for i, languages in enumerate(languages, start=1):\n",
    "    print(f\"{i}. {languages}\")\n"
   ]
  },
  {
   "cell_type": "code",
   "execution_count": 4,
   "id": "998eec1b-6103-4f80-975c-b7dfc26d50f3",
   "metadata": {},
   "outputs": [
    {
     "name": "stdout",
     "output_type": "stream",
     "text": [
      "Some of the popular libraries that Data Scientists use are: \n",
      "1. Pandas\n",
      "2. NumPy\n",
      "3. Caret\n",
      "4. GGPlot\n"
     ]
    }
   ],
   "source": [
    "print(\"Some of the popular libraries that Data Scientists use are: \")\n",
    "libraries = [\"Pandas\", \"NumPy\", \"Caret\", \"GGPlot\"]\n",
    "\n",
    "for i, libraries in enumerate(libraries, start=1):\n",
    "    print(f\"{i}. {libraries}\")\n"
   ]
  },
  {
   "cell_type": "markdown",
   "id": "03a904cd-a57d-4a69-a5a9-2af186a7f511",
   "metadata": {},
   "source": [
    "| Data Science Tools  |\n",
    "|---------------------|\n",
    "| Jupyter Notebook   |\n",
    "| RStudio           |\n",
    "| Apache Zeppelin   |\n"
   ]
  },
  {
   "cell_type": "markdown",
   "id": "2b5ddc3b-7a00-49f1-a76e-1d29d0c975a0",
   "metadata": {},
   "source": [
    "### Below are a few examples of evaluating arithmetic expressions in Python:"
   ]
  },
  {
   "cell_type": "code",
   "execution_count": 5,
   "id": "d5128a37-170f-4f5f-9844-cebcf7f62a8c",
   "metadata": {},
   "outputs": [
    {
     "name": "stdout",
     "output_type": "stream",
     "text": [
      "17\n"
     ]
    }
   ],
   "source": [
    "# This a simple arithmetic expression to mutiply then add integers:\n",
    "x = (3*4)+5\n",
    "print(x)"
   ]
  },
  {
   "cell_type": "code",
   "execution_count": 9,
   "id": "6afff062-1d6e-40ef-b4d3-965db2217de5",
   "metadata": {},
   "outputs": [
    {
     "name": "stdout",
     "output_type": "stream",
     "text": [
      "200 minutes is equal to 3.3333333333333335 hours.\n"
     ]
    }
   ],
   "source": [
    "# This will convert 200 minutes to hours by diving by 60\n",
    "y = 200 / 60\n",
    "print(\"200 minutes is equal to\", y ,\"hours.\")"
   ]
  },
  {
   "cell_type": "markdown",
   "id": "692677e4-dc49-4d7d-9e0d-cbf6335a13fc",
   "metadata": {},
   "source": [
    "**Objectives:**\n",
    "\n",
    "- List popular languages for Data Science\n",
    "- Identify common libraries used in Data Science\n",
    "- Describe open-source development tools for Data Science\n",
    "- Explain key data science concepts\n",
    "- Demonstrate basic data manipulation techniques\n"
   ]
  },
  {
   "cell_type": "markdown",
   "id": "bfe6511d-6c9f-4703-89f9-645df5b6af53",
   "metadata": {},
   "source": [
    "## Author\n",
    "Sam Herd"
   ]
  },
  {
   "cell_type": "code",
   "execution_count": null,
   "id": "52989ba8-9a3f-435e-8e5a-4851f76a4717",
   "metadata": {},
   "outputs": [],
   "source": []
  }
 ],
 "metadata": {
  "kernelspec": {
   "display_name": "Python 3 (ipykernel)",
   "language": "python",
   "name": "python3"
  },
  "language_info": {
   "codemirror_mode": {
    "name": "ipython",
    "version": 3
   },
   "file_extension": ".py",
   "mimetype": "text/x-python",
   "name": "python",
   "nbconvert_exporter": "python",
   "pygments_lexer": "ipython3",
   "version": "3.11.7"
  }
 },
 "nbformat": 4,
 "nbformat_minor": 5
}
